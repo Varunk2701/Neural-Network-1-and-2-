{
 "cells": [
  {
   "cell_type": "code",
   "execution_count": 1,
   "metadata": {},
   "outputs": [],
   "source": [
    "from sklearn import datasets\n",
    "from sklearn.model_selection import train_test_split"
   ]
  },
  {
   "cell_type": "code",
   "execution_count": 2,
   "metadata": {},
   "outputs": [],
   "source": [
    "iris=datasets.load_iris()"
   ]
  },
  {
   "cell_type": "code",
   "execution_count": 3,
   "metadata": {},
   "outputs": [],
   "source": [
    "x=iris.data\n",
    "y=iris.target"
   ]
  },
  {
   "cell_type": "code",
   "execution_count": 4,
   "metadata": {},
   "outputs": [],
   "source": [
    "x_train,x_test,y_train,y_test=train_test_split(x,y)"
   ]
  },
  {
   "cell_type": "code",
   "execution_count": 5,
   "metadata": {},
   "outputs": [],
   "source": [
    "from sklearn.neural_network import MLPClassifier"
   ]
  },
  {
   "cell_type": "code",
   "execution_count": 6,
   "metadata": {},
   "outputs": [],
   "source": [
    "clf=MLPClassifier( hidden_layer_sizes=(20,),max_iter=2000)"
   ]
  },
  {
   "cell_type": "code",
   "execution_count": 7,
   "metadata": {},
   "outputs": [
    {
     "data": {
      "text/plain": [
       "MLPClassifier(activation='relu', alpha=0.0001, batch_size='auto', beta_1=0.9,\n",
       "              beta_2=0.999, early_stopping=False, epsilon=1e-08,\n",
       "              hidden_layer_sizes=(20,), learning_rate='constant',\n",
       "              learning_rate_init=0.001, max_fun=15000, max_iter=2000,\n",
       "              momentum=0.9, n_iter_no_change=10, nesterovs_momentum=True,\n",
       "              power_t=0.5, random_state=None, shuffle=True, solver='adam',\n",
       "              tol=0.0001, validation_fraction=0.1, verbose=False,\n",
       "              warm_start=False)"
      ]
     },
     "execution_count": 7,
     "metadata": {},
     "output_type": "execute_result"
    }
   ],
   "source": [
    "clf.fit(x_train,y_train)"
   ]
  },
  {
   "cell_type": "code",
   "execution_count": 8,
   "metadata": {},
   "outputs": [
    {
     "data": {
      "text/plain": [
       "1.0"
      ]
     },
     "execution_count": 8,
     "metadata": {},
     "output_type": "execute_result"
    }
   ],
   "source": [
    "clf.score(x_test,y_test)"
   ]
  },
  {
   "cell_type": "code",
   "execution_count": 9,
   "metadata": {},
   "outputs": [
    {
     "data": {
      "text/plain": [
       "[array([[-6.61643688e-11,  1.93981694e-20, -4.55611189e-01,\n",
       "         -2.56255041e-01, -6.61056737e-04, -1.91192157e-15,\n",
       "         -4.81155874e-01,  2.58115319e-23,  6.99296693e-01,\n",
       "         -2.18805878e-02, -1.89000570e-02,  3.91943326e-01,\n",
       "         -8.27650034e-02,  2.58958152e-01, -2.76043613e-04,\n",
       "         -3.43787482e-03,  3.17942041e-01, -5.39835609e-01,\n",
       "         -4.35353056e-02, -4.36204725e-09],\n",
       "        [ 1.44839661e-18, -3.59841572e-05,  2.64881454e-01,\n",
       "         -7.73589041e-02,  1.86190372e-13, -2.14843968e-05,\n",
       "         -3.29083363e-01, -6.73762559e-04,  6.47468006e-01,\n",
       "         -1.22422472e-01, -1.04192496e-02,  4.82877380e-01,\n",
       "         -1.95192687e-02, -4.28758616e-01, -4.17325144e-10,\n",
       "         -3.58130338e-05, -2.44163327e-01,  3.13787325e-01,\n",
       "         -6.53942330e-02, -5.33916317e-03],\n",
       "        [-2.43489317e-05, -1.32784497e-09,  3.01448457e-01,\n",
       "          1.09949432e+00,  5.03952453e-06,  8.83288505e-08,\n",
       "          6.97544357e-01, -4.95236659e-03, -6.50121848e-01,\n",
       "         -1.30959203e-02, -1.72995640e-02, -2.29377408e-01,\n",
       "         -1.53132398e-02,  7.34863202e-01, -4.06792321e-07,\n",
       "         -5.00555369e-12,  4.72475322e-01,  3.32734319e-01,\n",
       "         -9.29622132e-02, -7.14682663e-25],\n",
       "        [-3.89589698e-10, -5.85432571e-04,  1.88277927e-01,\n",
       "          1.28552421e+00, -7.39989838e-03,  1.61964420e-12,\n",
       "          1.22627357e+00,  3.76180544e-07, -6.69596680e-01,\n",
       "         -1.10503744e-02, -3.82227097e-03, -3.29918299e-01,\n",
       "         -6.15321440e-04,  3.50688216e-01,  6.37661410e-04,\n",
       "         -3.04557300e-04,  6.57534556e-01,  3.57789580e-01,\n",
       "         -3.76894705e-02,  2.76802488e-07]]),\n",
       " array([[-1.72998569e-04, -8.22816708e-05,  9.69141515e-09],\n",
       "        [-6.99474030e-07, -1.06712367e-05,  1.44112392e-07],\n",
       "        [-2.02308926e-01, -1.59742606e-01, -4.05930298e-01],\n",
       "        [-4.36159734e-01,  3.87861770e-01,  1.12641396e+00],\n",
       "        [ 2.91021963e-05, -2.72949332e-10, -1.90472114e-20],\n",
       "        [ 7.03299454e-03, -4.41946943e-06, -1.93267523e-03],\n",
       "        [-8.01473817e-01, -1.63630675e+00,  1.00982647e+00],\n",
       "        [ 5.50631919e-12,  7.91328714e-26, -2.72477012e-03],\n",
       "        [ 7.97413719e-01,  4.11237306e-01, -8.72148905e-01],\n",
       "        [-9.08200662e-05, -2.72884563e-07, -1.64278291e-10],\n",
       "        [ 1.79816634e-02,  1.90283238e-02, -2.16499904e-02],\n",
       "        [ 6.59680740e-01, -1.54140165e-01, -3.71854303e-01],\n",
       "        [-4.57352795e-03, -1.11145975e-08, -7.66975542e-03],\n",
       "        [-3.95439198e-01,  6.43509154e-01,  4.57294183e-01],\n",
       "        [-9.24891943e-07,  3.32416467e-05,  4.00751015e-06],\n",
       "        [-2.06353460e-03,  1.33272037e-05,  1.85180000e-21],\n",
       "        [-5.24590031e-02,  4.42337150e-01,  3.64926927e-01],\n",
       "        [ 1.46819239e-01,  2.62168918e-01, -4.11433622e-02],\n",
       "        [-3.75574723e-21,  4.60368208e-03, -1.91561171e-03],\n",
       "        [-1.70725231e-10, -4.45409514e-12,  1.28588616e-03]])]"
      ]
     },
     "execution_count": 9,
     "metadata": {},
     "output_type": "execute_result"
    }
   ],
   "source": [
    "clf.coefs_"
   ]
  },
  {
   "cell_type": "code",
   "execution_count": 10,
   "metadata": {},
   "outputs": [
    {
     "data": {
      "text/plain": [
       "2"
      ]
     },
     "execution_count": 10,
     "metadata": {},
     "output_type": "execute_result"
    }
   ],
   "source": [
    "len(clf.coefs_)"
   ]
  },
  {
   "cell_type": "code",
   "execution_count": 11,
   "metadata": {},
   "outputs": [
    {
     "data": {
      "text/plain": [
       "((4, 20), (20, 3))"
      ]
     },
     "execution_count": 11,
     "metadata": {},
     "output_type": "execute_result"
    }
   ],
   "source": [
    "clf.coefs_[0].shape,clf.coefs_[1].shape"
   ]
  },
  {
   "cell_type": "code",
   "execution_count": 12,
   "metadata": {},
   "outputs": [
    {
     "data": {
      "text/plain": [
       "((20,), (3,))"
      ]
     },
     "execution_count": 12,
     "metadata": {},
     "output_type": "execute_result"
    }
   ],
   "source": [
    "clf.intercepts_[0].shape,clf.intercepts_[1].shape"
   ]
  },
  {
   "cell_type": "markdown",
   "metadata": {},
   "source": [
    "# Building our own Neural Network\n",
    "# i) No hidden layer"
   ]
  },
  {
   "cell_type": "code",
   "execution_count": 1,
   "metadata": {},
   "outputs": [],
   "source": [
    "import numpy as np"
   ]
  },
  {
   "cell_type": "code",
   "execution_count": 14,
   "metadata": {},
   "outputs": [],
   "source": [
    "X=np.array([[0,0],[0,1],[1,0],[1,1]])\n",
    "Y=np.array([[0,0,0,1]]).T"
   ]
  },
  {
   "cell_type": "code",
   "execution_count": 15,
   "metadata": {},
   "outputs": [
    {
     "data": {
      "text/plain": [
       "((4, 2), (4, 1))"
      ]
     },
     "execution_count": 15,
     "metadata": {},
     "output_type": "execute_result"
    }
   ],
   "source": [
    "X.shape,Y.shape"
   ]
  },
  {
   "cell_type": "code",
   "execution_count": 3,
   "metadata": {},
   "outputs": [],
   "source": [
    "def sig(z):\n",
    "    return 1/(1+np.exp(-z))"
   ]
  },
  {
   "cell_type": "code",
   "execution_count": 4,
   "metadata": {},
   "outputs": [],
   "source": [
    "def derivativeSig(z):\n",
    "    return sig(z)*(1-sig(z))"
   ]
  },
  {
   "cell_type": "code",
   "execution_count": 13,
   "metadata": {},
   "outputs": [
    {
     "data": {
      "text/plain": [
       "(array([[0.35483051],\n",
       "        [0.15197958]]),\n",
       " array([0.88724718]))"
      ]
     },
     "execution_count": 13,
     "metadata": {},
     "output_type": "execute_result"
    }
   ],
   "source": [
    "weights=2*np.random.random((2,1))-1\n",
    "bais=2*np.random.random(1)-1\n",
    "lr=0.1\n",
    "weights,bais"
   ]
  },
  {
   "cell_type": "code",
   "execution_count": 19,
   "metadata": {},
   "outputs": [],
   "source": [
    "output0=X"
   ]
  },
  {
   "cell_type": "code",
   "execution_count": 20,
   "metadata": {},
   "outputs": [
    {
     "data": {
      "text/plain": [
       "array([[0.27624435],\n",
       "       [0.39642971],\n",
       "       [0.31728832],\n",
       "       [0.44436693]])"
      ]
     },
     "execution_count": 20,
     "metadata": {},
     "output_type": "execute_result"
    }
   ],
   "source": [
    "output=sig(np.dot(output0,weights)+bais)\n",
    "output"
   ]
  },
  {
   "cell_type": "markdown",
   "metadata": {},
   "source": [
    "# ii)With Hidden Layer"
   ]
  },
  {
   "cell_type": "code",
   "execution_count": 21,
   "metadata": {},
   "outputs": [],
   "source": [
    "wh=2*np.random.random((2,2))-1\n",
    "bh=2*np.random.random((1,2))-1\n",
    "wo=2*np.random.random((2,1))-1\n",
    "bo=2*np.random.random((1,1))-1"
   ]
  },
  {
   "cell_type": "code",
   "execution_count": 22,
   "metadata": {},
   "outputs": [
    {
     "data": {
      "text/plain": [
       "array([[0.41065129],\n",
       "       [0.41881415],\n",
       "       [0.4102889 ],\n",
       "       [0.41671332]])"
      ]
     },
     "execution_count": 22,
     "metadata": {},
     "output_type": "execute_result"
    }
   ],
   "source": [
    "output0=X\n",
    "outputHidden=sig(np.dot(output0,wh)+bh)\n",
    "output=sig(np.dot(outputHidden,wo)+bo)\n",
    "output"
   ]
  },
  {
   "cell_type": "markdown",
   "metadata": {},
   "source": [
    "# Backward Propagation"
   ]
  },
  {
   "cell_type": "code",
   "execution_count": 29,
   "metadata": {},
   "outputs": [
    {
     "name": "stdout",
     "output_type": "stream",
     "text": [
      "[[4.33582993]\n",
      " [4.5037386 ]]\n",
      "[-6.84687129]\n",
      "[[0.00106165]\n",
      " [0.08761317]\n",
      " [0.07508776]\n",
      " [0.8800282 ]]\n"
     ]
    }
   ],
   "source": [
    "for iter in range(10000):\n",
    "    output0=X\n",
    "    output=sig(np.dot(output0,weights)+bais)\n",
    "    first_term=output-Y\n",
    "    input_of_the_last_layer=np.dot(output0,weights)+bais\n",
    "    second_term=derivativeSig(input_of_the_last_layer)\n",
    "    first_two=first_term*second_term\n",
    "    first_two.shape\n",
    "\n",
    "    changes=np.array([[0.0],[0.0]])\n",
    "    for i in range(2):\n",
    "        for j in range(4):\n",
    "            changes[i][0]=first_two[j][0]*output0[j][i]\n",
    "    weights=weights-lr*changes\n",
    "    bais_changes=0.0\n",
    "    for j in range(4):\n",
    "        bais_changes+=first_two[j][0]*1\n",
    "        bais = bais-lr*bais_changes\n",
    "output=sig(np.dot(X,weights)+bais)\n",
    "print(weights)\n",
    "print(bais)\n",
    "print(output)"
   ]
  },
  {
   "cell_type": "code",
   "execution_count": 32,
   "metadata": {},
   "outputs": [
    {
     "name": "stdout",
     "output_type": "stream",
     "text": [
      "[[5.25960087]\n",
      " [5.3020944 ]]\n",
      "[-8.01673817]\n",
      "[[3.29785535e-04]\n",
      " [6.21147705e-02]\n",
      " [5.96848254e-02]\n",
      " [9.27233996e-01]]\n"
     ]
    }
   ],
   "source": [
    "for iter in range(10000):\n",
    "    output0=X\n",
    "    output=sig(np.dot(output0,weights)+bais)\n",
    "    first_term=output-Y\n",
    "    input_of_the_last_layer=np.dot(output0,weights)+bais\n",
    "    second_term=derivativeSig(input_of_the_last_layer)\n",
    "    first_two=first_term*second_term\n",
    "    first_two.shape\n",
    "\n",
    "    changes=np.dot(output0.T,first_two)\n",
    "    weights=weights-lr*changes\n",
    "    bais_changes=np.sum(first_two)\n",
    "    bais = bais-lr*bais_changes\n",
    "output=sig(np.dot(X,weights)+bais)\n",
    "print(weights)\n",
    "print(bais)\n",
    "print(output)"
   ]
  },
  {
   "cell_type": "markdown",
   "metadata": {},
   "source": [
    "# Implementing a general neural network"
   ]
  },
  {
   "cell_type": "code",
   "execution_count": 10,
   "metadata": {},
   "outputs": [],
   "source": [
    "X=np.array([[0,0],[0,1],[1,0],[1,1]])\n",
    "Y=np.array([[0,1,1,0]]).T"
   ]
  },
  {
   "cell_type": "code",
   "execution_count": 11,
   "metadata": {},
   "outputs": [],
   "source": [
    "wh=2*np.random.random((2,2))-1\n",
    "bh=2*np.random.random((1,2))-1\n",
    "wo=2*np.random.random((2,1))-1\n",
    "bo=2*np.random.random((1,1))-1"
   ]
  },
  {
   "cell_type": "code",
   "execution_count": 14,
   "metadata": {},
   "outputs": [
    {
     "data": {
      "text/plain": [
       "(array([[0.06754071],\n",
       "        [0.93852165],\n",
       "        [0.94469359],\n",
       "        [0.06018995]]),\n",
       " array([[6.98760508],\n",
       "        [6.85385928]]),\n",
       " array([[-3.4104974]]),\n",
       " array([[-4.76596175,  5.69214219],\n",
       "        [ 4.42016004, -5.56288645]]),\n",
       " array([[-2.44640876, -3.36721694]]))"
      ]
     },
     "execution_count": 14,
     "metadata": {},
     "output_type": "execute_result"
    }
   ],
   "source": [
    "for iter in range(10000):\n",
    "    output0=X\n",
    "    inputHidden=np.dot(output0,wh)+bh\n",
    "    outputHidden=sig(inputHidden)\n",
    "    inputForOutputLayer=np.dot(outputHidden,wo)+bo\n",
    "    output=sig(inputForOutputLayer)\n",
    "\n",
    "    first_term_of_output_layer=output-Y\n",
    "    second_term_of_output_layer=derivativeSig(inputForOutputLayer)\n",
    "    first_two_terms_of_output_layer=first_term_of_output_layer*second_term_of_output_layer\n",
    "\n",
    "    first_term_of_hidden_layer=np.dot(first_two_terms_of_output_layer,wo.T)\n",
    "    second_term_of_hidden_layer=derivativeSig(inputHidden)\n",
    "    first_two_terms_of_hidden_layer=first_term_of_hidden_layer*second_term_of_hidden_layer\n",
    "\n",
    "    changes_output=np.dot(outputHidden.T,first_two_terms_of_output_layer)\n",
    "    changes_output_bais=np.sum(first_two_terms_of_output_layer,keepdims=True,axis=0)\n",
    "\n",
    "    changes_hidden=np.dot(output0.T,first_two_terms_of_hidden_layer)\n",
    "    changes_hidden_bais=np.sum(first_two_terms_of_hidden_layer,keepdims=True,axis=0)\n",
    "\n",
    "    wo=wo-lr*changes_output\n",
    "    bo=bo-lr*changes_output_bais\n",
    "\n",
    "    wh=wh-lr*changes_hidden\n",
    "    bh=bh-lr*changes_hidden_bais\n",
    "\n",
    "output0=X\n",
    "inputHidden=np.dot(output0,wh)+bh\n",
    "outputHidden=sig(inputHidden)\n",
    "inputForOutputLayer=np.dot(outputHidden,wo)+bo\n",
    "output=sig(inputForOutputLayer)\n",
    "output,wo,bo,wh,bh"
   ]
  },
  {
   "cell_type": "code",
   "execution_count": null,
   "metadata": {},
   "outputs": [],
   "source": []
  },
  {
   "cell_type": "code",
   "execution_count": null,
   "metadata": {},
   "outputs": [],
   "source": []
  }
 ],
 "metadata": {
  "kernelspec": {
   "display_name": "Python 3",
   "language": "python",
   "name": "python3"
  },
  "language_info": {
   "codemirror_mode": {
    "name": "ipython",
    "version": 3
   },
   "file_extension": ".py",
   "mimetype": "text/x-python",
   "name": "python",
   "nbconvert_exporter": "python",
   "pygments_lexer": "ipython3",
   "version": "3.8.3"
  }
 },
 "nbformat": 4,
 "nbformat_minor": 4
}
